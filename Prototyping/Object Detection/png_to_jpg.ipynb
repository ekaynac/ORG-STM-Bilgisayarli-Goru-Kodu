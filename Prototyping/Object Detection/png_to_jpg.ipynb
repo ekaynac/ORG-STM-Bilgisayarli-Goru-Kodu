{
 "cells": [
  {
   "cell_type": "code",
   "execution_count": 1,
   "metadata": {},
   "outputs": [],
   "source": [
    "import os"
   ]
  },
  {
   "cell_type": "code",
   "execution_count": 2,
   "metadata": {},
   "outputs": [],
   "source": [
    "PATH = r\"D:\\GitHub\\Meturone\\Meturone\\UORG\\Object Detection\\portable_generator\""
   ]
  },
  {
   "cell_type": "code",
   "execution_count": 3,
   "metadata": {},
   "outputs": [],
   "source": [
    "train_path = PATH + r\"\\train\"\n",
    "test_path = PATH + r\"\\test\""
   ]
  },
  {
   "cell_type": "code",
   "execution_count": 4,
   "metadata": {},
   "outputs": [],
   "source": [
    "for i in range(0,len(os.listdir(test_path)),2):\n",
    "    png_name = os.listdir(test_path)[i]\n",
    "    png_path = os.path.join(test_path,png_name)\n",
    "    jpg_name = png_name[:-3]+\"png\"\n",
    "    jpg_path = os.path.join(test_path,jpg_name)\n",
    "\n",
    "    os.rename(png_path, jpg_path)\n"
   ]
  },
  {
   "cell_type": "code",
   "execution_count": 5,
   "metadata": {},
   "outputs": [],
   "source": [
    "for i in range(0,len(os.listdir(train_path)),2):\n",
    "    png_name = os.listdir(train_path)[i]\n",
    "    png_path = os.path.join(train_path,png_name)\n",
    "    jpg_name = png_name[:-3]+\"png\"\n",
    "    jpg_path = os.path.join(train_path,jpg_name)\n",
    "\n",
    "    os.rename(png_path, jpg_path)\n"
   ]
  },
  {
   "cell_type": "code",
   "execution_count": null,
   "metadata": {},
   "outputs": [],
   "source": []
  }
 ],
 "metadata": {
  "interpreter": {
   "hash": "91a6361cbc04f9701849613a8befc595d9fbb0bc8f6818e3ca9e0de61eadc2a8"
  },
  "kernelspec": {
   "display_name": "Python 3.9.10 64-bit",
   "language": "python",
   "name": "python3"
  },
  "language_info": {
   "codemirror_mode": {
    "name": "ipython",
    "version": 3
   },
   "file_extension": ".py",
   "mimetype": "text/x-python",
   "name": "python",
   "nbconvert_exporter": "python",
   "pygments_lexer": "ipython3",
   "version": "3.9.10"
  },
  "orig_nbformat": 4
 },
 "nbformat": 4,
 "nbformat_minor": 2
}
