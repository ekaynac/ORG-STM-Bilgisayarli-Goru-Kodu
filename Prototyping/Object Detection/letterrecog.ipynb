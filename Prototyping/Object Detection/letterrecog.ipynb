{
 "cells": [
  {
   "cell_type": "code",
   "execution_count": 207,
   "metadata": {},
   "outputs": [],
   "source": [
    "import tensorflow as tf\n",
    "import numpy as np\n",
    "import cv2 as cv\n",
    "from matplotlib import pyplot as plt"
   ]
  },
  {
   "cell_type": "code",
   "execution_count": 208,
   "metadata": {},
   "outputs": [
    {
     "data": {
      "text/plain": [
       "['balanced', 'byclass', 'bymerge', 'digits', 'letters', 'mnist']"
      ]
     },
     "execution_count": 208,
     "metadata": {},
     "output_type": "execute_result"
    }
   ],
   "source": [
    "from emnist import list_datasets\n",
    "list_datasets()"
   ]
  },
  {
   "cell_type": "code",
   "execution_count": 209,
   "metadata": {},
   "outputs": [],
   "source": [
    "from emnist import extract_training_samples\n",
    "x_train, y_train = extract_training_samples('letters')\n",
    "\n",
    "x_train = x_train.astype(\"float32\") / 255"
   ]
  },
  {
   "cell_type": "code",
   "execution_count": 210,
   "metadata": {},
   "outputs": [],
   "source": [
    "from emnist import extract_test_samples\n",
    "x_test, y_test = extract_test_samples('letters')\n",
    "\n",
    "x_test = x_test.astype(\"float32\") / 255\n"
   ]
  },
  {
   "cell_type": "code",
   "execution_count": 211,
   "metadata": {},
   "outputs": [],
   "source": [
    "def resizeimg(img, tosize=(32,32)):\n",
    "    res = cv.resize(img, dsize=tosize)\n",
    "    res = np.expand_dims(res, -1)\n",
    "    return res"
   ]
  },
  {
   "cell_type": "code",
   "execution_count": 212,
   "metadata": {},
   "outputs": [],
   "source": [
    "x_train_new = []\n",
    "x_test_new = []"
   ]
  },
  {
   "cell_type": "code",
   "execution_count": 213,
   "metadata": {},
   "outputs": [],
   "source": [
    "for img in x_train:\n",
    "    x_train_new.append(resizeimg(img))"
   ]
  },
  {
   "cell_type": "code",
   "execution_count": 214,
   "metadata": {},
   "outputs": [],
   "source": [
    "for img in x_test:\n",
    "    x_test_new.append(resizeimg(img))"
   ]
  },
  {
   "cell_type": "code",
   "execution_count": 215,
   "metadata": {},
   "outputs": [],
   "source": [
    "x_train_new = np.array(x_train_new)\n",
    "x_test_new = np.array(x_test_new)"
   ]
  },
  {
   "cell_type": "code",
   "execution_count": 216,
   "metadata": {},
   "outputs": [
    {
     "data": {
      "text/plain": [
       "(124800, 32, 32, 1)"
      ]
     },
     "execution_count": 216,
     "metadata": {},
     "output_type": "execute_result"
    }
   ],
   "source": [
    "x_train_new.shape"
   ]
  },
  {
   "cell_type": "code",
   "execution_count": 217,
   "metadata": {},
   "outputs": [
    {
     "data": {
      "text/plain": [
       "(124800,)"
      ]
     },
     "execution_count": 217,
     "metadata": {},
     "output_type": "execute_result"
    }
   ],
   "source": [
    "y_train.shape"
   ]
  },
  {
   "cell_type": "code",
   "execution_count": 218,
   "metadata": {},
   "outputs": [],
   "source": [
    "y_train_new = tf.keras.utils.to_categorical(y_train)\n",
    "y_test_new = tf.keras.utils.to_categorical(y_test)"
   ]
  },
  {
   "cell_type": "code",
   "execution_count": 219,
   "metadata": {},
   "outputs": [],
   "source": [
    "num_classes = 27"
   ]
  },
  {
   "cell_type": "code",
   "execution_count": 220,
   "metadata": {},
   "outputs": [
    {
     "data": {
      "text/plain": [
       "array([[0., 0., 0., ..., 0., 0., 0.],\n",
       "       [0., 0., 0., ..., 0., 0., 0.],\n",
       "       [0., 0., 0., ..., 0., 0., 0.],\n",
       "       ...,\n",
       "       [0., 0., 0., ..., 0., 0., 0.],\n",
       "       [0., 0., 0., ..., 0., 0., 0.],\n",
       "       [0., 0., 0., ..., 0., 0., 0.]], dtype=float32)"
      ]
     },
     "execution_count": 220,
     "metadata": {},
     "output_type": "execute_result"
    }
   ],
   "source": [
    "y_train_new"
   ]
  },
  {
   "cell_type": "code",
   "execution_count": 221,
   "metadata": {},
   "outputs": [],
   "source": [
    "new_model = tf.keras.Sequential(\n",
    "    [\n",
    "        tf.keras.Input(shape=(32,32,1)),\n",
    "        tf.keras.layers.Conv2D(32, kernel_size=(3, 3), activation=\"relu\"),\n",
    "        tf.keras.layers.MaxPooling2D(pool_size=(2, 2)),\n",
    "        tf.keras.layers.Conv2D(64, kernel_size=(3, 3), activation=\"relu\"),\n",
    "        tf.keras.layers.MaxPooling2D(pool_size=(2, 2)),\n",
    "        tf.keras.layers.Flatten(),\n",
    "        tf.keras.layers.Dropout(0.5),\n",
    "        tf.keras.layers.Dense(num_classes, activation=\"softmax\"),\n",
    "    ]\n",
    ")"
   ]
  },
  {
   "cell_type": "code",
   "execution_count": 234,
   "metadata": {},
   "outputs": [
    {
     "name": "stdout",
     "output_type": "stream",
     "text": [
      "Epoch 1/10\n",
      "975/975 [==============================] - 7s 7ms/step - loss: 0.1980 - accuracy: 0.9320 - val_loss: 0.1972 - val_accuracy: 0.9376\n",
      "Epoch 2/10\n",
      "975/975 [==============================] - 6s 7ms/step - loss: 0.1956 - accuracy: 0.9324 - val_loss: 0.1919 - val_accuracy: 0.9389\n",
      "Epoch 3/10\n",
      "975/975 [==============================] - 6s 7ms/step - loss: 0.1940 - accuracy: 0.9334 - val_loss: 0.1919 - val_accuracy: 0.9401\n",
      "Epoch 4/10\n",
      "975/975 [==============================] - 6s 7ms/step - loss: 0.1927 - accuracy: 0.9341 - val_loss: 0.1936 - val_accuracy: 0.9391\n",
      "Epoch 5/10\n",
      "975/975 [==============================] - 6s 7ms/step - loss: 0.1885 - accuracy: 0.9352 - val_loss: 0.1927 - val_accuracy: 0.9388\n",
      "Epoch 6/10\n",
      "975/975 [==============================] - 7s 7ms/step - loss: 0.1878 - accuracy: 0.9347 - val_loss: 0.1893 - val_accuracy: 0.9410\n",
      "Epoch 7/10\n",
      "975/975 [==============================] - 7s 7ms/step - loss: 0.1884 - accuracy: 0.9345 - val_loss: 0.1924 - val_accuracy: 0.9400\n",
      "Epoch 8/10\n",
      "975/975 [==============================] - 7s 7ms/step - loss: 0.1831 - accuracy: 0.9367 - val_loss: 0.1933 - val_accuracy: 0.9388\n",
      "Epoch 9/10\n",
      "975/975 [==============================] - 7s 7ms/step - loss: 0.1829 - accuracy: 0.9360 - val_loss: 0.1928 - val_accuracy: 0.9400\n",
      "Epoch 10/10\n",
      "975/975 [==============================] - 7s 7ms/step - loss: 0.1826 - accuracy: 0.9368 - val_loss: 0.1927 - val_accuracy: 0.9401\n"
     ]
    },
    {
     "data": {
      "text/plain": [
       "<keras.callbacks.History at 0x20ddb884fa0>"
      ]
     },
     "execution_count": 234,
     "metadata": {},
     "output_type": "execute_result"
    }
   ],
   "source": [
    "batch_size = 128\n",
    "epochs = 10\n",
    "\n",
    "new_model.compile(loss=\"categorical_crossentropy\", optimizer=\"adam\", metrics=[\"accuracy\"])\n",
    "\n",
    "new_model.fit(x_train_new, y_train_new, batch_size=batch_size, epochs=epochs, validation_data=(x_test_new, y_test_new))"
   ]
  },
  {
   "cell_type": "code",
   "execution_count": 236,
   "metadata": {},
   "outputs": [
    {
     "name": "stdout",
     "output_type": "stream",
     "text": [
      "650/650 [==============================] - 3s 5ms/step - loss: 0.1927 - accuracy: 0.9401\n"
     ]
    },
    {
     "data": {
      "text/plain": [
       "[0.1926797330379486, 0.9401442408561707]"
      ]
     },
     "execution_count": 236,
     "metadata": {},
     "output_type": "execute_result"
    }
   ],
   "source": [
    "new_model.evaluate(x_test_new, y_test_new)"
   ]
  },
  {
   "cell_type": "code",
   "execution_count": 227,
   "metadata": {},
   "outputs": [],
   "source": [
    "predictions = new_model.predict(x_test_new)"
   ]
  },
  {
   "cell_type": "code",
   "execution_count": 228,
   "metadata": {},
   "outputs": [],
   "source": [
    "alphabet_string = ['a', 'b', 'c', 'd', 'e', 'f', 'g', 'h', 'i', 'j', 'k', 'l', 'm', 'n', 'o', 'p', 'q', 'r', 's', 't', 'u', 'v', 'w', 'x', 'y', 'z']"
   ]
  },
  {
   "cell_type": "code",
   "execution_count": 239,
   "metadata": {},
   "outputs": [
    {
     "name": "stdout",
     "output_type": "stream",
     "text": [
      "q\n"
     ]
    },
    {
     "data": {
      "image/png": "[encoded data removed]",
      "text/plain": [
       "<Figure size 432x288 with 1 Axes>"
      ]
     },
     "metadata": {
      "needs_background": "light"
     },
     "output_type": "display_data"
    }
   ],
   "source": [
    "i = 12900\n",
    "print(alphabet_string[np.argmax(predictions[i])-1])\n",
    "plt.imshow(x_test[i])\n",
    "plt.show()\n"
   ]
  },
  {
   "cell_type": "code",
   "execution_count": null,
   "metadata": {},
   "outputs": [],
   "source": []
  }
 ],
 "metadata": {
  "interpreter": {
   "hash": "91a6361cbc04f9701849613a8befc595d9fbb0bc8f6818e3ca9e0de61eadc2a8"
  },
  "kernelspec": {
   "display_name": "Python 3.9.10 64-bit",
   "language": "python",
   "name": "python3"
  },
  "language_info": {
   "codemirror_mode": {
    "name": "ipython",
    "version": 3
   },
   "file_extension": ".py",
   "mimetype": "text/x-python",
   "name": "python",
   "nbconvert_exporter": "python",
   "pygments_lexer": "ipython3",
   "version": "3.9.10"
  },
  "orig_nbformat": 4
 },
 "nbformat": 4,
 "nbformat_minor": 2
}
