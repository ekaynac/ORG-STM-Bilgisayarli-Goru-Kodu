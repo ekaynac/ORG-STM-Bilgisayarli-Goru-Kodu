{
 "cells": [
  {
   "cell_type": "code",
   "execution_count": 2,
   "metadata": {},
   "outputs": [],
   "source": [
    "from PIL import Image\n",
    "import os"
   ]
  },
  {
   "cell_type": "code",
   "execution_count": 5,
   "metadata": {},
   "outputs": [],
   "source": [
    "image = Image.open(r\"D:\\GitHub\\Meturone\\Meturone\\UORG\\Object Detection\\portable_generator\\test\\portable_generator700.jpg\")"
   ]
  },
  {
   "cell_type": "code",
   "execution_count": 6,
   "metadata": {},
   "outputs": [
    {
     "data": {
      "text/plain": [
       "'JPEG'"
      ]
     },
     "execution_count": 6,
     "metadata": {},
     "output_type": "execute_result"
    }
   ],
   "source": [
    "image.format"
   ]
  },
  {
   "cell_type": "code",
   "execution_count": 5,
   "metadata": {},
   "outputs": [],
   "source": [
    "PATH = r\"D:\\GitHub\\Meturone\\Meturone\\UORG\\Object Detection\\portable_generator\""
   ]
  },
  {
   "cell_type": "code",
   "execution_count": 14,
   "metadata": {},
   "outputs": [],
   "source": [
    "train_path = PATH + r\"\\train\"\n",
    "test_path = PATH + r\"\\test\"\n",
    "train_path_jpg = PATH  + r\"\\jpg_train\"\n",
    "test_path_jpg = PATH  + r\"\\jpg_test\"\n",
    "os.makedirs(train_path_jpg,exist_ok=True)\n",
    "os.makedirs(test_path_jpg,exist_ok=True)"
   ]
  },
  {
   "cell_type": "code",
   "execution_count": 15,
   "metadata": {},
   "outputs": [],
   "source": [
    "for i in range(0,len(os.listdir(test_path)),2):\n",
    "    png_name = os.listdir(test_path)[i]\n",
    "    png_path = os.path.join(test_path,png_name)\n",
    "    img = Image.open(png_path)\n",
    "    jpg_name = png_name[:-3]+\"jpg\"\n",
    "\n",
    "    jpg_path = os.path.join(test_path_jpg,jpg_name)\n",
    "    \n",
    "    img.save(jpg_path)"
   ]
  },
  {
   "cell_type": "code",
   "execution_count": 16,
   "metadata": {},
   "outputs": [],
   "source": [
    "for i in range(0,len(os.listdir(train_path)),2):\n",
    "    png_name = os.listdir(train_path)[i]\n",
    "    png_path = os.path.join(train_path,png_name)\n",
    "    img = Image.open(png_path)\n",
    "    jpg_name = png_name[:-3]+\"jpg\"\n",
    "\n",
    "    jpg_path = os.path.join(train_path_jpg,jpg_name)\n",
    "    \n",
    "    img.save(jpg_path)"
   ]
  },
  {
   "cell_type": "code",
   "execution_count": 19,
   "metadata": {},
   "outputs": [],
   "source": [
    "for i in os.listdir(test_path):\n",
    "    if i[-3:] == \"jpg\":\n",
    "        png_path = os.path.join(test_path,i)\n",
    "        os.remove(png_path)"
   ]
  },
  {
   "cell_type": "code",
   "execution_count": 28,
   "metadata": {},
   "outputs": [
    {
     "name": "stdout",
     "output_type": "stream",
     "text": [
      "zort\n"
     ]
    }
   ],
   "source": [
    "for i in os.listdir(train_path):\n",
    "    if i[-3:] == \"jpg\":\n",
    "        png_path = os.path.join(train_path,i)\n",
    "        try:\n",
    "            os.remove(png_path)\n",
    "        except:\n",
    "            print(\"zort\")"
   ]
  },
  {
   "cell_type": "code",
   "execution_count": null,
   "metadata": {},
   "outputs": [],
   "source": []
  }
 ],
 "metadata": {
  "interpreter": {
   "hash": "91a6361cbc04f9701849613a8befc595d9fbb0bc8f6818e3ca9e0de61eadc2a8"
  },
  "kernelspec": {
   "display_name": "Python 3.9.10 64-bit",
   "language": "python",
   "name": "python3"
  },
  "language_info": {
   "codemirror_mode": {
    "name": "ipython",
    "version": 3
   },
   "file_extension": ".py",
   "mimetype": "text/x-python",
   "name": "python",
   "nbconvert_exporter": "python",
   "pygments_lexer": "ipython3",
   "version": "3.9.10"
  },
  "orig_nbformat": 4
 },
 "nbformat": 4,
 "nbformat_minor": 2
}
